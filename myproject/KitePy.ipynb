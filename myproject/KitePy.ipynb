{
 "cells": [
  {
   "cell_type": "code",
   "execution_count": null,
   "id": "d222540b-0e38-4347-b635-718ee3e84f7c",
   "metadata": {},
   "outputs": [],
   "source": [
    "from kite_trade import *\n",
    "import threading\n",
    "import time\n",
    "import pandas as pd"
   ]
  },
  {
   "cell_type": "code",
   "execution_count": null,
   "id": "2f2275aa-3458-4212-801b-d9e50c541116",
   "metadata": {},
   "outputs": [],
   "source": [
    "      \n",
    "user_id = \"QFW742\"       # Login Id\n",
    "password = \"Dhinakar.s\"      # Login password\n",
    "twofa = \"744557\"         # Login Pin or TOTP\n",
    "\n",
    "enctoken = get_enctoken(user_id, password, twofa)\n",
    "kite = KiteApp(enctoken=enctoken)\n"
   ]
  },
  {
   "cell_type": "code",
   "execution_count": 33,
   "id": "fa8d3522-ff30-49f8-9614-4b3e2a58b214",
   "metadata": {},
   "outputs": [
    {
     "name": "stdout",
     "output_type": "stream",
     "text": [
      "[None]\n",
      "[{'NSE:NIFTY 50': {'instrument_token': 256265, 'last_price': 22687.55}, 'NSE:NIFTY BANK': {'instrument_token': 260105, 'last_price': 49269.45}}]\n",
      "[{'NSE:NIFTY 50': {'instrument_token': 256265, 'last_price': 22686.9}, 'NSE:NIFTY BANK': {'instrument_token': 260105, 'last_price': 49267.95}}]\n",
      "[{'NSE:NIFTY 50': {'instrument_token': 256265, 'last_price': 22685.3}, 'NSE:NIFTY BANK': {'instrument_token': 260105, 'last_price': 49261.05}}]\n",
      "[{'NSE:NIFTY 50': {'instrument_token': 256265, 'last_price': 22686.5}, 'NSE:NIFTY BANK': {'instrument_token': 260105, 'last_price': 49262.5}}]\n",
      "[{'NSE:NIFTY 50': {'instrument_token': 256265, 'last_price': 22686.05}, 'NSE:NIFTY BANK': {'instrument_token': 260105, 'last_price': 49261.4}}]\n",
      "[{'NSE:NIFTY 50': {'instrument_token': 256265, 'last_price': 22685.35}, 'NSE:NIFTY BANK': {'instrument_token': 260105, 'last_price': 49261.4}}]\n",
      "[{'NSE:NIFTY 50': {'instrument_token': 256265, 'last_price': 22685.95}, 'NSE:NIFTY BANK': {'instrument_token': 260105, 'last_price': 49261.75}}]\n",
      "[{'NSE:NIFTY 50': {'instrument_token': 256265, 'last_price': 22685.25}, 'NSE:NIFTY BANK': {'instrument_token': 260105, 'last_price': 49259.7}}]\n",
      "[{'NSE:NIFTY 50': {'instrument_token': 256265, 'last_price': 22685.8}, 'NSE:NIFTY BANK': {'instrument_token': 260105, 'last_price': 49267.05}}]\n",
      "[{'NSE:NIFTY 50': {'instrument_token': 256265, 'last_price': 22687.3}, 'NSE:NIFTY BANK': {'instrument_token': 260105, 'last_price': 49266.9}}]\n",
      "Duration reached. Stopping data fetching.\n",
      "Live data saved to: C:\\Users\\Lenovo\\kite\\live_data.xlsx\n"
     ]
    }
   ],
   "source": [
    "# Circular buffer implementation\n",
    "class CircularBuffer:\n",
    "    def __init__(self, size):\n",
    "        self.buffer = [None] * size\n",
    "        self.size = size\n",
    "        self.next_index = 0\n",
    "    \n",
    "    def add(self, data):\n",
    "        self.buffer[self.next_index] = data\n",
    "        self.next_index = (self.next_index + 1) % self.size\n",
    "    \n",
    "    def get_data(self):\n",
    "        return self.buffer\n",
    "\n",
    "# Initialize circular buffer\n",
    "buffer_size = 1  # Adjust the size as needed\n",
    "live_data_buffer = CircularBuffer(buffer_size)\n",
    "\n",
    "# Function to continuously fetch live data and update circular buffer\n",
    "def fetch_and_store_live_data(kite, buffer, duration, data_list):\n",
    "    start_time = time.time()\n",
    "    while True:\n",
    "        elapsed_time = time.time() - start_time\n",
    "        if elapsed_time >= duration:\n",
    "            print(\"Duration reached. Stopping data fetching.\")\n",
    "            break\n",
    "        \n",
    "        live_data = kite.ltp([\"NSE:NIFTY BANK\", \"NSE:NIFTY 50\"])  # Fetch live data, adjust instruments as needed\n",
    "        buffer.add(live_data)\n",
    "        data_list.append(live_data)  # Append data to list\n",
    "        time.sleep(1)  # Adjust the interval as needed\n",
    "\n",
    "# Define duration for data fetching (in seconds)\n",
    "duration = 10  # 10 seconds\n",
    "\n",
    "data_list = []  # List to store live data\n",
    "\n",
    "fetch_thread = threading.Thread(target=fetch_and_store_live_data, args=(kite, live_data_buffer, duration, data_list))\n",
    "fetch_thread.start()\n",
    "\n",
    "# Main loop to access live data\n",
    "while fetch_thread.is_alive():\n",
    "    # Access live data from the circular buffer whenever needed\n",
    "    latest_data = live_data_buffer.get_data()\n",
    "    print(latest_data)\n",
    "    time.sleep(1)  # Adjust the interval as needed \n",
    "\n",
    "# Wait for the fetching thread to complete\n",
    "fetch_thread.join()\n",
    "\n",
    "# Convert data list to DataFrame\n",
    "df = pd.DataFrame(data_list)\n",
    "\n",
    "# Save DataFrame to Excel file\n",
    "excel_file_path = r'C:\\Users\\Lenovo\\kite\\live_data.xlsx'\n",
    "df.to_excel(excel_file_path, index=False)\n",
    "print(\"Live data saved to:\", excel_file_path)\n"
   ]
  },
  {
   "cell_type": "code",
   "execution_count": null,
   "id": "ebd0cdaa-6dfc-4d58-b86c-084da2183152",
   "metadata": {},
   "outputs": [],
   "source": [
    "# Get instrument or exchange\n",
    "#print(kite.instruments())\n",
    "print(kite.instruments(\"NSE\"))\n",
    "print(kite.instruments(\"NFO\"))"
   ]
  },
  {
   "cell_type": "code",
   "execution_count": null,
   "id": "cfee71a5-f686-41d6-a900-6586980b161a",
   "metadata": {},
   "outputs": [],
   "source": [
    "# Basic calls\n",
    "print(kite.margins())\n",
    "print(kite.orders())\n",
    "print(kite.positions())"
   ]
  },
  {
   "cell_type": "code",
   "execution_count": null,
   "id": "5682d989",
   "metadata": {},
   "outputs": [],
   "source": [
    "# Get Live Data\n",
    "print(kite.ltp(\"NSE:RELIANCE\"))\n",
    "print(kite.ltp([\"NSE:NIFTY 50\", \"NSE:NIFTY BANK\"]))\n",
    "print(kite.quote([\"NSE:NIFTY BANK\", \"NSE:ACC\", \"NFO:NIFTY22SEPFUT\"]))"
   ]
  },
  {
   "cell_type": "code",
   "execution_count": null,
   "id": "abda8409",
   "metadata": {},
   "outputs": [],
   "source": [
    "import time\n",
    "while True:\n",
    "    print(kite.quote([\"NSE:NIFTY BANK\"]))\n",
    "    time.sleep(600)"
   ]
  },
  {
   "cell_type": "code",
   "execution_count": null,
   "id": "27dbeaed",
   "metadata": {},
   "outputs": [],
   "source": [
    "# Get Historical Data\n",
    "import datetime\n",
    "instrument_token = 424961\n",
    "from_datetime = datetime.datetime.now() - datetime.timedelta(days=90)     # From last & days\n",
    "to_datetime = datetime.datetime.now()\n",
    "interval = \"5minute\"\n",
    "print(kite.historical_data(instrument_token, from_datetime, to_datetime, interval, continuous=False, oi=False))"
   ]
  },
  {
   "cell_type": "code",
   "execution_count": null,
   "id": "ce9b4516",
   "metadata": {},
   "outputs": [],
   "source": [
    "instruments = kite.ltp('NSE:ITC') \n",
    "# Extract the instrument token\n",
    "instrument_token = instruments['NSE:ITC']['instrument_token']\n",
    "print(f\"Instrument Token for ITC: {instrument_token}\")"
   ]
  },
  {
   "cell_type": "code",
   "execution_count": null,
   "id": "c4d1784f",
   "metadata": {},
   "outputs": [],
   "source": [
    "\n",
    "import datetime"
   ]
  },
  {
   "cell_type": "code",
   "execution_count": null,
   "id": "b47e8572",
   "metadata": {},
   "outputs": [],
   "source": [
    "instrument_token = 424961\n",
    "from_datetime = datetime.datetime.now() - datetime.timedelta(days=7)\n",
    "to_datetime = datetime.datetime.now()\n",
    "interval = \"5minute\"\n",
    "\n",
    "# Assuming kite.historical_data returns a list of dictionaries\n",
    "historical_data = kite.historical_data(instrument_token, from_datetime, to_datetime, interval, continuous=False, oi=False)\n",
    "\n",
    "# Convert the list of dictionaries to a Pandas DataFrame\n",
    "df = pd.DataFrame(historical_data)\n",
    "\n",
    "# Print or further manipulate the DataFrame as needed\n",
    "print(df)\n"
   ]
  },
  {
   "cell_type": "code",
   "execution_count": null,
   "id": "80ef4c45",
   "metadata": {
    "scrolled": true
   },
   "outputs": [],
   "source": [
    "#df.to_excel(r\"C:\\Users\\Lenovo\\kite\\ITC_30D.csv\")"
   ]
  },
  {
   "cell_type": "code",
   "execution_count": null,
   "id": "9392472f",
   "metadata": {},
   "outputs": [],
   "source": [
    "# Convert datetime columns to timezone-naive format\n",
    "df['date'] = df['date'].dt.tz_localize(None)\n",
    "\n",
    "# Export the DataFrame to an Excel file\n",
    "excel_file_path = r'C:\\Users\\Lenovo\\kite\\ITC_30D.xlsx'\n",
    "#df.to_excel(excel_file_path, index=False)\n",
    "\n",
    "# Print or further manipulate the DataFrame as needed\n",
    "print(df)\n",
    "print(f'Data exported to {excel_file_path}')\n"
   ]
  },
  {
   "cell_type": "code",
   "execution_count": null,
   "id": "420fcce2",
   "metadata": {},
   "outputs": [],
   "source": [
    "html_file_path=r'C:\\Users\\Lenovo\\kite\\ITC_30D.html'\n",
    "df.to_html(html_file_path)"
   ]
  },
  {
   "cell_type": "code",
   "execution_count": null,
   "id": "3d299fe6",
   "metadata": {},
   "outputs": [],
   "source": [
    "#pip install TA_Lib‑0.4.0‑cp39‑cp39‑win_amd64.whl\n",
    "#pip install TA-Lib-binary"
   ]
  },
  {
   "cell_type": "code",
   "execution_count": null,
   "id": "4dc56185",
   "metadata": {},
   "outputs": [],
   "source": [
    "#conda install -c conda-forge ta-lib"
   ]
  },
  {
   "cell_type": "code",
   "execution_count": null,
   "id": "0efd8869",
   "metadata": {},
   "outputs": [],
   "source": [
    "# Calculate Bollinger Bands\n",
    "window = 20  # Adjust the window size as needed\n",
    "df['MA'] = df['close'].rolling(window).mean()\n",
    "df['std_dev'] = df['close'].rolling(window).std()\n",
    "df['upper_band'] = df['MA'] + 2 * df['std_dev']\n",
    "df['lower_band'] = df['MA'] - 2 * df['std_dev']\n",
    "\n",
    "# Print or further manipulate the DataFrame as needed\n",
    "print(df)"
   ]
  },
  {
   "cell_type": "code",
   "execution_count": null,
   "id": "e2909197",
   "metadata": {},
   "outputs": [],
   "source": [
    "# Calculate RSI\n",
    "#rsi_period = 14  # Adjust the period as needed\n",
    "#df['rsi'] = talib.RSI(df['close'].values, timeperiod=rsi_period)\n",
    "\n",
    "\n",
    "# Calculate RSI\n",
    "period = 14  # RSI period\n",
    "delta = df['close'].diff()\n",
    "\n",
    "gain = (delta.where(delta > 0, 0)).rolling(window=period).mean()\n",
    "loss = (-delta.where(delta < 0, 0)).rolling(window=period).mean()\n",
    "\n",
    "rs = gain / loss\n",
    "rsi = 100 - (100 / (1 + rs))\n",
    "\n",
    "# Add RSI to DataFrame\n",
    "df['RSI'] = rsi\n",
    "\n",
    "# Print or further manipulate the DataFrame as needed\n",
    "print(df)"
   ]
  },
  {
   "cell_type": "code",
   "execution_count": null,
   "id": "42af1da5",
   "metadata": {},
   "outputs": [],
   "source": [
    "# Calculate Stochastic Oscillator\n",
    "period = 14  # Adjust the period as needed\n",
    "highest_high = df['high'].rolling(period).max()\n",
    "lowest_low = df['low'].rolling(period).min()\n",
    "\n",
    "df['%K'] = (df['close'] - lowest_low) / (highest_high - lowest_low) * 100\n",
    "df['%D'] = df['%K'].rolling(3).mean()  # Smoothing with a 3-period moving average\n",
    "\n",
    "# Print or further manipulate the DataFrame as needed\n",
    "print(df)"
   ]
  },
  {
   "cell_type": "code",
   "execution_count": null,
   "id": "7eb4e7a7",
   "metadata": {},
   "outputs": [],
   "source": [
    "# Calculate MACD\n",
    "short_period = 12  # Short-term moving average period\n",
    "long_period = 26   # Long-term moving average period\n",
    "\n",
    "# Calculate Short-term EMA (Exponential Moving Average)\n",
    "ema_short = df['close'].ewm(span=short_period, min_periods=1).mean()\n",
    "\n",
    "# Calculate Long-term EMA (Exponential Moving Average)\n",
    "ema_long = df['close'].ewm(span=long_period, min_periods=1).mean()\n",
    "\n",
    "# Calculate MACD line\n",
    "macd_line = ema_short - ema_long\n",
    "\n",
    "# Calculate Signal line (9-period EMA of the MACD line)\n",
    "signal_line = macd_line.ewm(span=9, min_periods=1).mean()\n",
    "\n",
    "# Calculate MACD histogram\n",
    "macd_histogram = macd_line - signal_line\n",
    "\n",
    "# Add MACD components to DataFrame\n",
    "df['MACD Line'] = macd_line\n",
    "df['Signal Line'] = signal_line\n",
    "df['MACD Histogram'] = macd_histogram\n",
    "\n",
    "# Print or further manipulate the DataFrame as needed\n",
    "print(df)"
   ]
  },
  {
   "cell_type": "code",
   "execution_count": null,
   "id": "fff97c71",
   "metadata": {},
   "outputs": [],
   "source": [
    "# Calculate Ichimoku Cloud components\n",
    "conversion_line_period = 9\n",
    "base_line_period = 26\n",
    "leading_span_b_period = 52\n",
    "displacement = 26  # The displacement for Chikou Span\n",
    "\n",
    "# Calculate Conversion Line (Tenkan-sen)\n",
    "conversion_line = (df['high'].rolling(window=conversion_line_period).max() + df['low'].rolling(window=conversion_line_period).min()) / 2\n",
    "\n",
    "# Calculate Base Line (Kijun-sen)\n",
    "base_line = (df['high'].rolling(window=base_line_period).max() + df['low'].rolling(window=base_line_period).min()) / 2\n",
    "\n",
    "# Calculate Leading Span A\n",
    "leading_span_a = ((conversion_line + base_line) / 2).shift(displacement)\n",
    "\n",
    "# Calculate Leading Span B\n",
    "leading_span_b = ((df['high'].rolling(window=leading_span_b_period).max() + df['low'].rolling(window=leading_span_b_period).min()) / 2).shift(displacement)\n",
    "\n",
    "# Calculate Lagging Span (Chikou Span)\n",
    "chikou_span = df['close'].shift(-displacement)\n",
    "\n",
    "# Add Ichimoku Cloud components to DataFrame\n",
    "df['Conversion Line'] = conversion_line\n",
    "df['Base Line'] = base_line\n",
    "df['Leading Span A'] = leading_span_a\n",
    "df['Leading Span B'] = leading_span_b\n",
    "df['Chikou Span'] = chikou_span\n",
    "\n",
    "# Print or further manipulate the DataFrame as needed\n",
    "print(df)"
   ]
  },
  {
   "cell_type": "code",
   "execution_count": null,
   "id": "eac234d6-b4e0-4649-9fc5-4583da84b216",
   "metadata": {},
   "outputs": [],
   "source": [
    "html_file_path=r'C:\\Users\\Lenovo\\kite\\ITC_30D.html'\n",
    "df.to_html(html_file_path)"
   ]
  },
  {
   "cell_type": "code",
   "execution_count": null,
   "id": "6023d6f1-64e5-4005-b108-d22900a7004d",
   "metadata": {},
   "outputs": [],
   "source": []
  }
 ],
 "metadata": {
  "kernelspec": {
   "display_name": "Python 3 (ipykernel)",
   "language": "python",
   "name": "python3"
  },
  "language_info": {
   "codemirror_mode": {
    "name": "ipython",
    "version": 3
   },
   "file_extension": ".py",
   "mimetype": "text/x-python",
   "name": "python",
   "nbconvert_exporter": "python",
   "pygments_lexer": "ipython3",
   "version": "3.11.7"
  }
 },
 "nbformat": 4,
 "nbformat_minor": 5
}
